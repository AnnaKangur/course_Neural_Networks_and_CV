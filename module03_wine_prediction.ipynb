{
  "cells": [
    {
      "cell_type": "code",
      "execution_count": 15,
      "metadata": {
        "id": "GEPMUSaVwj7j"
      },
      "outputs": [],
      "source": [
        "import torch\n",
        "import random\n",
        "import numpy as np\n",
        "\n",
        "random.seed(0)\n",
        "np.random.seed(0)\n",
        "torch.manual_seed(0)\n",
        "torch.cuda.manual_seed(0)\n",
        "torch.backends.cudnn.deterministic = True"
      ]
    },
    {
      "cell_type": "code",
      "execution_count": 16,
      "metadata": {
        "colab": {
          "base_uri": "https://localhost:8080/"
        },
        "id": "i_eY4W-twj7n",
        "outputId": "f65fcd84-a7cd-4d9f-992a-274a051e7fa0"
      },
      "outputs": [
        {
          "output_type": "execute_result",
          "data": {
            "text/plain": [
              "((178, 13), (178,))"
            ]
          },
          "metadata": {},
          "execution_count": 16
        }
      ],
      "source": [
        "import sklearn.datasets\n",
        "wine = sklearn.datasets.load_wine()\n",
        "wine.data.shape, wine.target.shape"
      ]
    },
    {
      "cell_type": "code",
      "source": [
        "wine.data[0]"
      ],
      "metadata": {
        "colab": {
          "base_uri": "https://localhost:8080/"
        },
        "id": "hxyJCvdx3VUf",
        "outputId": "42dd5b57-2ea2-4412-980a-3e4f0a18477c"
      },
      "execution_count": 17,
      "outputs": [
        {
          "output_type": "execute_result",
          "data": {
            "text/plain": [
              "array([1.423e+01, 1.710e+00, 2.430e+00, 1.560e+01, 1.270e+02, 2.800e+00,\n",
              "       3.060e+00, 2.800e-01, 2.290e+00, 5.640e+00, 1.040e+00, 3.920e+00,\n",
              "       1.065e+03])"
            ]
          },
          "metadata": {},
          "execution_count": 17
        }
      ]
    },
    {
      "cell_type": "code",
      "execution_count": 18,
      "metadata": {
        "id": "OZqJ2BrKwj7o"
      },
      "outputs": [],
      "source": [
        "from sklearn.model_selection import train_test_split\n",
        "\n",
        "X_train, X_test, y_train, y_test = train_test_split(\n",
        "    wine.data[:, :2], # для удобства визуализации\n",
        "    wine.target, \n",
        "    test_size=0.3, # 30 проц выборки в тест\n",
        "    shuffle=True)\n",
        "\n",
        "X_train = torch.FloatTensor(X_train)\n",
        "X_test = torch.FloatTensor(X_test)\n",
        "y_train = torch.LongTensor(y_train)\n",
        "y_test = torch.LongTensor(y_test)"
      ]
    },
    {
      "cell_type": "code",
      "execution_count": 19,
      "metadata": {
        "id": "04oqUKV3wj7p"
      },
      "outputs": [],
      "source": [
        "class WineNet(torch.nn.Module):\n",
        "    def __init__(self, n_hidden_neurons):\n",
        "        super(WineNet, self).__init__()\n",
        "        \n",
        "        self.fc1 = torch.nn.Linear(2, n_hidden_neurons)\n",
        "        self.activ1 = torch.nn.Sigmoid()\n",
        "\n",
        "        # self.fc2 = torch.nn.Linear(n_hidden_neurons, n_hidden_neurons)\n",
        "        # self.activ2 = torch.nn.Sigmoid()\n",
        "\n",
        "        self.fc3 = torch.nn.Linear(n_hidden_neurons, 3) # потому что 3 класса\n",
        "\n",
        "        self.sm = torch.nn.Softmax(dim=1) # получим вероятности классов\n",
        "        \n",
        "    def forward(self, x):\n",
        "        x = self.fc1(x)\n",
        "        x = self.activ1(x)\n",
        "        # x = self.fc2(x)\n",
        "        # x = self.activ2(x)\n",
        "        x = self.fc3(x)\n",
        "        # нет Softmax!\n",
        "        # потому что CrossEntropyLoss считается без Softmax\n",
        "        return x\n",
        "\n",
        "    def inference(self, x): # для вероятностей\n",
        "        x = self.forward(x)\n",
        "        x = self.sm(x)\n",
        "        return x\n",
        "    \n",
        "wine_net = WineNet(5)"
      ]
    },
    {
      "cell_type": "code",
      "execution_count": 20,
      "metadata": {
        "id": "WvaVe_7Hwj7q"
      },
      "outputs": [],
      "source": [
        "loss = torch.nn.CrossEntropyLoss()\n",
        "\n",
        "optimizer = torch.optim.Adam(wine_net.parameters(), lr=1.0e-3)"
      ]
    },
    {
      "cell_type": "code",
      "execution_count": 21,
      "metadata": {
        "colab": {
          "base_uri": "https://localhost:8080/"
        },
        "id": "u6arNI24wj7q",
        "outputId": "7880f2e9-87e4-40ca-a02b-3093d77fc838"
      },
      "outputs": [
        {
          "output_type": "execute_result",
          "data": {
            "text/plain": [
              "array([2, 0, 1, 4, 3])"
            ]
          },
          "metadata": {},
          "execution_count": 21
        }
      ],
      "source": [
        "np.random.permutation(5) \n",
        "# можем взять индексы в случайном порядке"
      ]
    },
    {
      "cell_type": "code",
      "execution_count": 22,
      "metadata": {
        "scrolled": false,
        "colab": {
          "base_uri": "https://localhost:8080/"
        },
        "id": "3pVqg4E_wj7q",
        "outputId": "66580638-f147-439e-fb96-84156200efd5"
      },
      "outputs": [
        {
          "output_type": "stream",
          "name": "stdout",
          "text": [
            "tensor(0.4074)\n",
            "tensor(0.5000)\n",
            "tensor(0.4630)\n",
            "tensor(0.4630)\n",
            "tensor(0.4630)\n",
            "tensor(0.5556)\n",
            "tensor(0.5370)\n",
            "tensor(0.7222)\n",
            "tensor(0.7222)\n",
            "tensor(0.7778)\n",
            "tensor(0.7963)\n",
            "tensor(0.7778)\n",
            "tensor(0.7778)\n",
            "tensor(0.7778)\n",
            "tensor(0.7963)\n",
            "tensor(0.7963)\n",
            "tensor(0.8148)\n",
            "tensor(0.8148)\n",
            "tensor(0.8148)\n",
            "tensor(0.8333)\n",
            "tensor(0.8333)\n",
            "tensor(0.8333)\n",
            "tensor(0.8519)\n",
            "tensor(0.8519)\n",
            "tensor(0.8519)\n",
            "tensor(0.8519)\n",
            "tensor(0.8519)\n",
            "tensor(0.8704)\n",
            "tensor(0.8704)\n",
            "tensor(0.8519)\n",
            "tensor(0.8704)\n",
            "tensor(0.8704)\n",
            "tensor(0.8889)\n",
            "tensor(0.8704)\n",
            "tensor(0.9074)\n",
            "tensor(0.8889)\n",
            "tensor(0.9074)\n",
            "tensor(0.9074)\n",
            "tensor(0.9074)\n",
            "tensor(0.8889)\n",
            "tensor(0.9074)\n",
            "tensor(0.9074)\n",
            "tensor(0.9074)\n",
            "tensor(0.9074)\n",
            "tensor(0.9074)\n",
            "tensor(0.8889)\n",
            "tensor(0.9074)\n",
            "tensor(0.9074)\n",
            "tensor(0.8704)\n",
            "tensor(0.9074)\n"
          ]
        }
      ],
      "source": [
        "batch_size = 10\n",
        "\n",
        "for epoch in range(5000):\n",
        "\n",
        "    order = np.random.permutation(len(X_train)) # перемешивает датасет \n",
        "\n",
        "    for start_index in range(0, len(X_train), batch_size):\n",
        "\n",
        "        optimizer.zero_grad()\n",
        "        \n",
        "        batch_indexes = order[start_index:start_index+batch_size]\n",
        "        x_batch = X_train[batch_indexes]\n",
        "        y_batch = y_train[batch_indexes]\n",
        "        \n",
        "        preds = wine_net.forward(x_batch) \n",
        "        \n",
        "        loss_value = loss(preds, y_batch)\n",
        "        loss_value.backward()\n",
        "        \n",
        "        optimizer.step()\n",
        "        \n",
        "    if epoch % 100 == 0:\n",
        "        test_preds = wine_net.forward(X_test)\n",
        "        test_preds = test_preds.argmax(dim=1) # какой класс с масимальной веротностью\n",
        "        print((test_preds == y_test).float().mean()) # доля совпадений"
      ]
    },
    {
      "cell_type": "code",
      "execution_count": 23,
      "metadata": {
        "colab": {
          "base_uri": "https://localhost:8080/",
          "height": 497
        },
        "id": "FePyRpKswj7r",
        "outputId": "86c13b30-6e80-4775-b050-8317a4e6cf91"
      },
      "outputs": [
        {
          "output_type": "display_data",
          "data": {
            "text/plain": [
              "<Figure size 720x576 with 1 Axes>"
            ],
            "image/png": "[encoded data removed]"
          },
          "metadata": {
            "needs_background": "light"
          }
        }
      ],
      "source": [
        "import matplotlib.pyplot as plt\n",
        "%matplotlib inline\n",
        "\n",
        "plt.rcParams['figure.figsize'] = (10, 8)\n",
        "\n",
        "n_classes = 3\n",
        "plot_colors = ['g', 'orange', 'black']\n",
        "plot_step = 0.02\n",
        "\n",
        "x_min, x_max = X_train[:, 0].min() - 1, X_train[:, 0].max() + 1\n",
        "y_min, y_max = X_train[:, 1].min() - 1, X_train[:, 1].max() + 1\n",
        "\n",
        "xx, yy =  torch.meshgrid(torch.arange(x_min, x_max, plot_step),\n",
        "                         torch.arange(y_min, y_max, plot_step))\n",
        "\n",
        "preds = wine_net.inference(\n",
        "    torch.cat([xx.reshape(-1, 1), yy.reshape(-1, 1)], dim=1))\n",
        "\n",
        "preds_class = preds.data.numpy().argmax(axis=1)\n",
        "preds_class = preds_class.reshape(xx.shape)\n",
        "plt.contourf(xx, yy, preds_class, cmap='Accent')\n",
        "\n",
        "for i, color in zip(range(n_classes), plot_colors):\n",
        "    indexes = np.where(y_train == i)\n",
        "    plt.scatter(X_train[indexes, 0], \n",
        "                X_train[indexes, 1], \n",
        "                c=color, \n",
        "                label=wine.target_names[i],\n",
        "                cmap='Accent')\n",
        "    plt.xlabel(wine.feature_names[0])\n",
        "    plt.ylabel(wine.feature_names[1])\n",
        "    plt.legend()"
      ]
    },
    {
      "cell_type": "markdown",
      "source": [
        "Давайте попрактикуемся с WineNet. Измените архитектуру так, чтобы на вход принимались все 13 признаков и проведите следующие эксперименты:\n",
        "\n",
        "1. Поэкспериментируйте с количеством нейронов в скрытых слоях. Попробуйте поставить очень маленькое число. Существует ли пороговое значение количества скрытых нейронов, при котором обучение становится невозможным?\n",
        "\n",
        "2. Попробуйте передавать различные значения test_size в функцию train_test_split. При каком значении test_size сеть предсказывает хуже чем Base Rate*? И какой Base Rate у датасета вин?\n",
        "\n",
        "3. Зависит ли время обучения на одной эпохе от размера батча? Исследуйте эту зависимость."
      ],
      "metadata": {
        "id": "zjnWYjXcXNgK"
      }
    },
    {
      "cell_type": "code",
      "source": [
        "np.shape(X_train)"
      ],
      "metadata": {
        "colab": {
          "base_uri": "https://localhost:8080/"
        },
        "id": "4QoyaMUtbflH",
        "outputId": "7a5d8dc7-114c-4d55-b873-929be9cb4f9e"
      },
      "execution_count": 50,
      "outputs": [
        {
          "output_type": "execute_result",
          "data": {
            "text/plain": [
              "torch.Size([124, 13])"
            ]
          },
          "metadata": {},
          "execution_count": 50
        }
      ]
    },
    {
      "cell_type": "code",
      "execution_count": 53,
      "metadata": {
        "colab": {
          "base_uri": "https://localhost:8080/"
        },
        "id": "82QEmb5-wj7s",
        "outputId": "3be29766-074b-480b-c63b-2dfacf8d9628"
      },
      "outputs": [
        {
          "output_type": "stream",
          "name": "stdout",
          "text": [
            "tensor(0.2593)\n",
            "tensor(0.2593)\n",
            "tensor(0.6481)\n",
            "tensor(0.6667)\n",
            "tensor(0.6667)\n",
            "tensor(0.6667)\n",
            "tensor(0.7037)\n",
            "tensor(0.7037)\n",
            "tensor(0.7037)\n",
            "tensor(0.7222)\n",
            "tensor(0.7222)\n",
            "tensor(0.7222)\n",
            "tensor(0.7222)\n",
            "tensor(0.7222)\n",
            "tensor(0.7222)\n",
            "tensor(0.7222)\n",
            "tensor(0.7222)\n",
            "tensor(0.7222)\n",
            "tensor(0.7037)\n",
            "tensor(0.7222)\n",
            "tensor(0.6667)\n",
            "tensor(0.7778)\n",
            "tensor(0.7593)\n",
            "tensor(0.7778)\n",
            "tensor(0.8148)\n",
            "tensor(0.8889)\n",
            "tensor(0.8889)\n",
            "tensor(0.9074)\n",
            "tensor(0.9074)\n",
            "tensor(0.9630)\n",
            "tensor(0.9444)\n",
            "tensor(0.9630)\n",
            "tensor(0.9444)\n",
            "tensor(0.9630)\n",
            "tensor(0.9630)\n",
            "tensor(0.9630)\n",
            "tensor(0.9630)\n",
            "tensor(0.9630)\n",
            "tensor(0.9630)\n",
            "tensor(0.9630)\n",
            "tensor(0.9630)\n",
            "tensor(0.9630)\n",
            "tensor(0.9630)\n",
            "tensor(0.9630)\n",
            "tensor(0.9630)\n",
            "tensor(0.9630)\n",
            "tensor(0.9815)\n",
            "tensor(0.9815)\n",
            "tensor(0.9630)\n",
            "tensor(0.9630)\n"
          ]
        }
      ],
      "source": [
        "X_train, X_test, y_train, y_test = train_test_split(\n",
        "    wine.data, wine.target, test_size=0.3, shuffle=True)\n",
        "\n",
        "X_train = torch.FloatTensor(X_train)\n",
        "X_test = torch.FloatTensor(X_test)\n",
        "y_train = torch.LongTensor(y_train)\n",
        "y_test = torch.LongTensor(y_test)\n",
        "\n",
        "class WineNet(torch.nn.Module):\n",
        "    def __init__(self, n_hidden_neurons):\n",
        "        super(WineNet, self).__init__()\n",
        "        \n",
        "        self.fc1 = torch.nn.Linear(13, n_hidden_neurons)\n",
        "        self.activ1 = torch.nn.Sigmoid()\n",
        "\n",
        "        self.fc2 = torch.nn.Linear(n_hidden_neurons, n_hidden_neurons)\n",
        "        self.activ2 = torch.nn.Sigmoid()\n",
        "\n",
        "        self.fc3 = torch.nn.Linear(n_hidden_neurons, 3) # потому что 3 класса\n",
        "\n",
        "        self.sm = torch.nn.Softmax(dim=1) # получим вероятности классов\n",
        "        \n",
        "    def forward(self, x):\n",
        "        x = self.fc1(x)\n",
        "        x = self.activ1(x)\n",
        "        x = self.fc2(x)\n",
        "        x = self.activ2(x)\n",
        "        x = self.fc3(x)\n",
        "        # нет Softmax! потому что CrossEntropyLoss считается без Softmax, + стофтмакс \"тяжелый\"\n",
        "        return x\n",
        "\n",
        "    def inference(self, x): # для вероятностей\n",
        "        x = self.forward(x)\n",
        "        x = self.sm(x)\n",
        "        return x\n",
        "    \n",
        "wine_net = WineNet(5)\n",
        "\n",
        "loss = torch.nn.CrossEntropyLoss()\n",
        "arr_loss = []\n",
        "\n",
        "optimizer = torch.optim.Adam(wine_net.parameters(), lr=1.0e-3)\n",
        "\n",
        "batch_size = 50\n",
        "\n",
        "for epoch in range(5000):\n",
        "\n",
        "    order = np.random.permutation(len(X_train)) # перемешивает датасет \n",
        "\n",
        "    for start_index in range(0, len(X_train), batch_size):\n",
        "\n",
        "        optimizer.zero_grad()\n",
        "        \n",
        "        batch_indexes = order[start_index:start_index+batch_size]\n",
        "        x_batch = X_train[batch_indexes]\n",
        "        y_batch = y_train[batch_indexes]\n",
        "        \n",
        "        preds = wine_net.forward(x_batch) \n",
        "        \n",
        "        loss_value = loss(preds, y_batch)\n",
        "        loss_value.backward()\n",
        "        \n",
        "        optimizer.step()\n",
        "        \n",
        "    if epoch % 100 == 0:\n",
        "        test_preds = wine_net.forward(X_test)\n",
        "        test_preds = test_preds.argmax(dim=1) # какой класс с масимальной веротностью\n",
        "        arr_loss.append((test_preds == y_test).float().mean())\n",
        "        print((test_preds == y_test).float().mean()) # доля совпадений"
      ]
    },
    {
      "cell_type": "code",
      "source": [
        "plt.plot(arr_loss)"
      ],
      "metadata": {
        "colab": {
          "base_uri": "https://localhost:8080/",
          "height": 500
        },
        "id": "1P2_zAOlZClD",
        "outputId": "6707d7db-a713-40c6-f49d-9521cec98488"
      },
      "execution_count": 54,
      "outputs": [
        {
          "output_type": "execute_result",
          "data": {
            "text/plain": [
              "[<matplotlib.lines.Line2D at 0x7f179524b5d0>]"
            ]
          },
          "metadata": {},
          "execution_count": 54
        },
        {
          "output_type": "display_data",
          "data": {
            "text/plain": [
              "<Figure size 720x576 with 1 Axes>"
            ],
            "image/png": "[encoded data removed]"
          },
          "metadata": {
            "needs_background": "light"
          }
        }
      ]
    }
  ],
  "metadata": {
    "anaconda-cloud": {},
    "kernelspec": {
      "display_name": "Python 3",
      "language": "python",
      "name": "python3"
    },
    "language_info": {
      "codemirror_mode": {
        "name": "ipython",
        "version": 3
      },
      "file_extension": ".py",
      "mimetype": "text/x-python",
      "name": "python",
      "nbconvert_exporter": "python",
      "pygments_lexer": "ipython3",
      "version": "3.6.8"
    },
    "colab": {
      "provenance": []
    }
  },
  "nbformat": 4,
  "nbformat_minor": 0
}